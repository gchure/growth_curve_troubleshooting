{
 "cells": [
  {
   "cell_type": "markdown",
   "metadata": {},
   "source": [
    "# Growth and the ribosomal content of cells - scan of parameters\n",
    "\n",
    "See other notebook for full description. "
   ]
  },
  {
   "cell_type": "code",
   "execution_count": 5,
   "metadata": {},
   "outputs": [],
   "source": [
    "#start python session\n",
    "import numpy as np\n",
    "import pandas as pd\n",
    "import matplotlib.pyplot as plt\n",
    "from sympy import *\n",
    "import matplotlib\n",
    "matplotlib.rcParams['pdf.fonttype'] = 42\n",
    "matplotlib.rcParams['ps.fonttype'] = 42"
   ]
  },
  {
   "cell_type": "code",
   "execution_count": 6,
   "metadata": {},
   "outputs": [
    {
     "data": {
      "application/vnd.jupyter.widget-view+json": {
       "model_id": "6473347913c54917a3424e696e68ba33",
       "version_major": 2,
       "version_minor": 0
      },
      "text/plain": [
       "interactive(children=(FloatSlider(value=0.026, description='a0v', max=0.15, min=0.001, step=0.001), FloatSlide…"
      ]
     },
     "metadata": {},
     "output_type": "display_data"
    }
   ],
   "source": [
    "\n",
    "#definitions of functions to plot things in the following\n",
    "\n",
    "colorPC='k'#'#4A71B7'\n",
    "colorPR='k'#'#70AD44'\n",
    "colorGR='k'\n",
    "colorGRopt='orange'\n",
    "colorPCcon='magenta'\n",
    "alphac=0.8\n",
    "\n",
    "\n",
    "def grsolution(beta,gamma_maxin,nu,a_0,phiO,phiR,fracactive):  \n",
    " pf_translationrate=3600./7459.\n",
    " gamma_max=gamma_maxin*fracactive*pf_translationrate\n",
    " grsol1s=((-beta*(gamma_max*phiR - nu*phiO - nu*phiR + nu) + np.sqrt(beta*(-4*a_0*gamma_max*nu*phiO*phiR - 4*a_0*gamma_max*nu*phiR*phiR + 4*a_0*gamma_max*nu*phiR + beta*gamma_max**2*phiR*phiR + 2*beta*gamma_max*nu*phiO*phiR + 2*beta*gamma_max*nu*phiR*phiR - 2*beta*gamma_max*nu*phiR + beta*nu*nu*phiO*phiO + 2*beta*nu*nu*phiO*phiR - 2*beta*nu*nu*phiO + beta*nu*nu*phiR*phiR - 2*beta*nu*nu*phiR + beta*nu*nu)))/(2*(a_0 - beta)))\n",
    " \n",
    " #grsol1s=((-beta*(gamma_max*phiR - nu*phiO - nu*phiR + nu) + np.sqrt(beta*(-4*a_0*gamma_max*nu*phiO*phiR - 4*a_0*gamma_max*nu*phiR**2 + 4*a_0*gamma_max*nu*phiR + beta*gamma_max**2*phiR*phiR + 2*beta*gamma_max*nu*phiO*phiR + 2*beta*gamma_max*nu*phiR*phiR - 2*beta*gamma_max*nu*phiR + beta*nu*nu*phiO*phiO + 2*beta*nu*nu*phiO*phiR - 2*beta*nu*nu*phiO + beta*nu*nu*phiR*phiR - 2*beta*nu*nu*phiR + beta*nu*nu)))/(2*(a_0 - beta)))\n",
    "    \n",
    " a_solution1=beta*(nu*(1-phiO-phiR)/grsol1s-1)\n",
    " return [grsol1s,a_solution1,gamma_max*a_solution1/(a_solution1+a_0)/fracactive/pf_translationrate]\n",
    "\n",
    "#solution for optimal growht\n",
    "#output: fraction ribosomes, precursor level, growth-rate\n",
    "def optphiR_solution(beta,gamma_maxin,nu,a0,phiO,fracactive):\n",
    " pf_translationrate=3600./7459.\n",
    " gamma_max=gamma_maxin*fracactive*pf_translationrate\n",
    " phiRopt=-(2*a0*gamma_max*nu*phiO - 2*a0*gamma_max*nu - beta*gamma_max*nu*phiO + beta*gamma_max*nu - beta*nu*nu*phiO + beta*nu**2 - gamma_max*phiO*np.sqrt(a0*beta*gamma_max*nu) + gamma_max*np.sqrt(a0*beta*gamma_max*nu) + nu*phiO*np.sqrt(a0*beta*gamma_max*nu) - nu*np.sqrt(a0*beta*gamma_max*nu))/(4*a0*gamma_max*nu - beta*gamma_max*gamma_max - 2*beta*gamma_max*nu - beta*nu**2)\n",
    " #print((beta*(-4*a0*gamma_max*nu*phiO*phiRopt - 4*a0*gamma_max*nu*phiRopt*phiRopt + 4*a0*gamma_max*nu*phiRopt + beta*gamma_max*gamma_max*phiRopt*phiRopt + 2*beta*gamma_max*nu*phiO*phiRopt + 2*beta*gamma_max*nu*phiRopt*phiRopt - 2*beta*gamma_max*nu*phiRopt + beta*nu*nu*phiO*phiO + 2*beta*nu*nu*phiO*phiRopt - 2*beta*nu*nu*phiO + beta*nu*nu*phiRopt*phiRopt - 2*beta*nu*nu*phiRopt + beta*nu*nu)))\n",
    " #print(np.sqrt(beta*(-4*a0*gamma_max*nu*phiO*phiRopt - 4*a0*gamma_max*nu*phiRopt*phiRopt + 4*a0*gamma_max*nu*phiRopt + beta*gamma_max*gamma_max*phiRopt*phiRopt + 2*beta*gamma_max*nu*phiO*phiRopt + 2*beta*gamma_max*nu*phiRopt*phiRopt - 2*beta*gamma_max*nu*phiRopt + beta*nu*nu*phiO*phiO + 2*beta*nu*nu*phiO*phiRopt - 2*beta*nu*nu*phiO + beta*nu*nu*phiRopt*phiRopt - 2*beta*nu*nu*phiRopt + beta*nu*nu)))\n",
    " #phiRopt=optimalgrowth_sol1=-(2*a0*gamma_max*nu*phiO - 2*a0*gamma_max*nu - beta*gamma_max*nu*phiO + beta*gamma_max*nu - beta*nu**2*phiO + beta*nu**2 - gamma_max*phiO*sqrt(a0*beta*gamma_max*nu) + gamma_max*sqrt(a0*beta*gamma_max*nu) + nu*phiO*sqrt(a0*beta*gamma_max*nu) - nu*sqrt(a0*beta*gamma_max*nu))/(4*a0*gamma_max*nu - beta*gamma_max**2 - 2*beta*gamma_max*nu - beta*nu**2)\n",
    " grsol1s=((-beta*(gamma_max*phiRopt - nu*phiO - nu*phiRopt + nu) + np.sqrt(beta*(-4*a0*gamma_max*nu*phiO*phiRopt - 4*a0*gamma_max*nu*phiRopt*phiRopt + 4*a0*gamma_max*nu*phiRopt + beta*gamma_max*gamma_max*phiRopt*phiRopt + 2*beta*gamma_max*nu*phiO*phiRopt + 2*beta*gamma_max*nu*phiRopt*phiRopt - 2*beta*gamma_max*nu*phiRopt + beta*nu*nu*phiO*phiO + 2*beta*nu*nu*phiO*phiRopt - 2*beta*nu*nu*phiO + beta*nu*nu*phiRopt*phiRopt - 2*beta*nu*nu*phiRopt + beta*nu*nu)))/(2*(a0 - beta))) \n",
    " #grsol1s=((-beta*(gamma_max*phiRopt - nu*phiO - nu*phiRopt + nu) + sqrt(beta*(-4*a0*gamma_max*nu*phiO*phiRopt - 4*a0*gamma_max*nu*phiRopt**2 + 4*a0*gamma_max*nu*phiRopt + beta*gamma_max**2*phiRopt**2 + 2*beta*gamma_max*nu*phiO*phiRopt + 2*beta*gamma_max*nu*phiRopt**2 - 2*beta*gamma_max*nu*phiRopt + beta*nu**2*phiO**2 + 2*beta*nu**2*phiO*phiRopt - 2*beta*nu**2*phiO + beta*nu**2*phiRopt**2 - 2*beta*nu**2*phiRopt + beta*nu**2)))/(2*(a0 - beta))) \n",
    " a_solution1=beta*(nu*(1-phiO-phiRopt)/grsol1s-1)\n",
    " translc=grsol1s*0+gamma_max*a_solution1/(a_solution1+a0)/fracactive/pf_translationrate\n",
    " return[phiRopt,a_solution1,grsol1s,translc]\n",
    "\n",
    "def constphiR_solution(beta,gamma_maxin,nu,a0,phiO,phiRin,fracactive):\n",
    " pf_translationrate=3600./7459.\n",
    " gamma_max=gamma_maxin*fracactive*pf_translationrate\n",
    " phiRopt=phiRin\n",
    " #-(2*a0*gamma_max*nu*phiO - 2*a0*gamma_max*nu - beta*gamma_max*nu*phiO + beta*gamma_max*nu - beta*nu*nu*phiO + beta*nu**2 - gamma_max*phiO*np.sqrt(a0*beta*gamma_max*nu) + gamma_max*np.sqrt(a0*beta*gamma_max*nu) + nu*phiO*np.sqrt(a0*beta*gamma_max*nu) - nu*np.sqrt(a0*beta*gamma_max*nu))/(4*a0*gamma_max*nu - beta*gamma_max*gamma_max - 2*beta*gamma_max*nu - beta*nu**2)\n",
    " #print((beta*(-4*a0*gamma_max*nu*phiO*phiRopt - 4*a0*gamma_max*nu*phiRopt*phiRopt + 4*a0*gamma_max*nu*phiRopt + beta*gamma_max*gamma_max*phiRopt*phiRopt + 2*beta*gamma_max*nu*phiO*phiRopt + 2*beta*gamma_max*nu*phiRopt*phiRopt - 2*beta*gamma_max*nu*phiRopt + beta*nu*nu*phiO*phiO + 2*beta*nu*nu*phiO*phiRopt - 2*beta*nu*nu*phiO + beta*nu*nu*phiRopt*phiRopt - 2*beta*nu*nu*phiRopt + beta*nu*nu)))\n",
    " #print(np.sqrt(beta*(-4*a0*gamma_max*nu*phiO*phiRopt - 4*a0*gamma_max*nu*phiRopt*phiRopt + 4*a0*gamma_max*nu*phiRopt + beta*gamma_max*gamma_max*phiRopt*phiRopt + 2*beta*gamma_max*nu*phiO*phiRopt + 2*beta*gamma_max*nu*phiRopt*phiRopt - 2*beta*gamma_max*nu*phiRopt + beta*nu*nu*phiO*phiO + 2*beta*nu*nu*phiO*phiRopt - 2*beta*nu*nu*phiO + beta*nu*nu*phiRopt*phiRopt - 2*beta*nu*nu*phiRopt + beta*nu*nu)))\n",
    " #phiRopt=optimalgrowth_sol1=-(2*a0*gamma_max*nu*phiO - 2*a0*gamma_max*nu - beta*gamma_max*nu*phiO + beta*gamma_max*nu - beta*nu**2*phiO + beta*nu**2 - gamma_max*phiO*sqrt(a0*beta*gamma_max*nu) + gamma_max*sqrt(a0*beta*gamma_max*nu) + nu*phiO*sqrt(a0*beta*gamma_max*nu) - nu*sqrt(a0*beta*gamma_max*nu))/(4*a0*gamma_max*nu - beta*gamma_max**2 - 2*beta*gamma_max*nu - beta*nu**2)\n",
    " grsol1s=((-beta*(gamma_max*phiRopt - nu*phiO - nu*phiRopt + nu) + np.sqrt(beta*(-4*a0*gamma_max*nu*phiO*phiRopt - 4*a0*gamma_max*nu*phiRopt*phiRopt + 4*a0*gamma_max*nu*phiRopt + beta*gamma_max*gamma_max*phiRopt*phiRopt + 2*beta*gamma_max*nu*phiO*phiRopt + 2*beta*gamma_max*nu*phiRopt*phiRopt - 2*beta*gamma_max*nu*phiRopt + beta*nu*nu*phiO*phiO + 2*beta*nu*nu*phiO*phiRopt - 2*beta*nu*nu*phiO + beta*nu*nu*phiRopt*phiRopt - 2*beta*nu*nu*phiRopt + beta*nu*nu)))/(2*(a0 - beta))) \n",
    " #grsol1s=((-beta*(gamma_max*phiRopt - nu*phiO - nu*phiRopt + nu) + sqrt(beta*(-4*a0*gamma_max*nu*phiO*phiRopt - 4*a0*gamma_max*nu*phiRopt**2 + 4*a0*gamma_max*nu*phiRopt + beta*gamma_max**2*phiRopt**2 + 2*beta*gamma_max*nu*phiO*phiRopt + 2*beta*gamma_max*nu*phiRopt**2 - 2*beta*gamma_max*nu*phiRopt + beta*nu**2*phiO**2 + 2*beta*nu**2*phiO*phiRopt - 2*beta*nu**2*phiO + beta*nu**2*phiRopt**2 - 2*beta*nu**2*phiRopt + beta*nu**2)))/(2*(a0 - beta))) \n",
    " a_solution1=beta*(nu*(1-phiO-phiRopt)/grsol1s-1)\n",
    " translc=grsol1s*0+gamma_max*a_solution1/(a_solution1+a0)/fracactive/pf_translationrate\n",
    " return[grsol1s*0+phiRopt,a_solution1,grsol1s,translc]\n",
    "\n",
    "#solution for constant nutrient abundance levels\n",
    "#output: fraction ribosomes, precursor level, growth-rate\n",
    "def constPCsolution(beta,gamma_maxin,nu,a_0,avaluec,phiO,fracactive):\n",
    "    pf_translationrate=3600./7459.\n",
    "    gamma_max=gamma_maxin*fracactive*pf_translationrate\n",
    "    sol1c=beta*nu*(-a_0*phiO + a_0 - avaluec*phiO + avaluec)/(a_0*beta*nu + avaluec*avaluec*gamma_max + avaluec*beta*gamma_max + avaluec*beta*nu)\n",
    "    #sol2c=beta*nu*(-a_0*phiO + a_0 - avaluec*phiO + avaluec)/(a_0*beta*nu + avaluec**2*gamma_max + avaluec*beta*gamma_max + avaluec*beta*nu)\n",
    "    translc=sol1c*0.+a_0*gamma_max*avaluec/(avaluec+a_0)\n",
    "    return [sol1c,sol1c*0.+avaluec,gamma_max*sol1c*avaluec/(avaluec+a_0)/fracactive/pf_translationrate,translc]\n",
    "\n",
    "\n",
    "\n",
    "\n",
    "#it seems like widgets need to be first activatedfor jupythero labbook\n",
    "#jupyter labextension install @jupyter-widgets/jupyterlab-manager\n",
    "\n",
    "%matplotlib inline\n",
    "from ipywidgets import interactive\n",
    "\n",
    "import matplotlib.pyplot as plt\n",
    "import numpy as np\n",
    "\n",
    "#variation of different parameters\n",
    "#a0v=0.005\n",
    "##gamma_maxv=5.7\n",
    "#betav=1/20.\n",
    "#nuv=1\n",
    "#phiOv=0.3\n",
    "\n",
    "\n",
    "\n",
    "\n",
    "a0v=0.0013*20#\n",
    "gamma_maxv=20\n",
    "betav=1\n",
    "nuv=10\n",
    "phiOv=0.35\n",
    "fracactivev=0.65\n",
    "\n",
    "\n",
    "#0.7 to account for non-active ribosome part, other part for other proteins needed for translation (RNA-seq)\n",
    "\n",
    "def plotfunction(a0v=a0v, nuv=nuv, phiOv=phiOv,gamma_maxv=gamma_maxv,betav=betav,fracactivev=fracactivev):\n",
    "    fig, axs = plt.subplots(2,3, figsize=(2.8*3,5.3))\n",
    "    axs[0,0].set_xlim(0,2)\n",
    "    axs[0,0].set_title(\"Change nutrient quality\")\n",
    "    axs[0,1].set_xlim(0,2)\n",
    "    axs[0,1].set_title(\"Change fraction other proteins\")\n",
    "    axs[0,2].set_xlim(0,2)\n",
    "    axs[0,2].set_title(\"Change translation rate\")\n",
    "    axs[0,0].set_ylabel('ribosome fraction $\\\\alpha_R$')\n",
    "    axs[0,0].set_xlabel(\"growth-rate $\\lambda\\, (1/h)$\")\n",
    "    axs[0,1].set_ylabel('ribosome fraction $\\\\alpha_R$')\n",
    "    axs[0,1].set_xlabel(\"growth-rate $\\lambda\\, (1/h)$\")\n",
    "    axs[0,2].set_ylabel('ribosome fraction $\\\\alpha_R$')\n",
    "    axs[0,2].set_xlabel(\"growth-rate $\\lambda\\, (1/h)$\")\n",
    "    axs[1,0].set_xlim(0,2)\n",
    "    axs[1,1].set_xlim(0,2)\n",
    "    axs[1,2].set_xlim(0,2)\n",
    "    axs[1,0].set_ylabel('translatioon rate (AA/s)')\n",
    "    axs[1,0].set_xlabel(\"growth-rate $\\lambda\\, (1/h)$\")\n",
    "    axs[1,1].set_ylabel('translatioon rate (AA/s)')\n",
    "    axs[1,1].set_xlabel(\"growth-rate $\\lambda\\, (1/h)$\")\n",
    "    axs[1,2].set_ylabel('translatioon rate (AA/s)')\n",
    "    axs[1,2].set_xlabel(\"growth-rate $\\lambda\\, (1/h)$\")\n",
    "    \n",
    "    #for reference, plot slope 1/translation rate\n",
    "    xgrr=np.linspace(0,2,20)\n",
    "    \n",
    "    pf_translationrate=3600./7459.\n",
    "    \n",
    "    axs[0,0].plot(xgrr,100*xgrr/gamma_maxv/pf_translationrate/fracactivev,ls='-',color='magenta')\n",
    "    axs[0,1].plot(xgrr,100*xgrr/gamma_maxv/pf_translationrate/fracactivev,ls='-',color='magenta')\n",
    "    axs[0,2].plot(xgrr,100*xgrr/gamma_maxv/pf_translationrate/fracactivev,ls='-',color='magenta')\n",
    "    \n",
    "    ####\n",
    "    #change nutrient quality\n",
    "    nuarray=np.linspace(0.005,40,100)\n",
    "    gropt_alphaR,gropt_pc,gropt_gr,gropt_transl=optphiR_solution(betav,gamma_maxv,nuv,a0v,phiOv,fracactivev)\n",
    "    axs[0,0].axvline(gropt_gr,ls='--')\n",
    "    gropt_alphaR,gropt_pc,gropt_gr,gropt_transl=optphiR_solution(betav,gamma_maxv,nuarray,a0v,phiOv,fracactivev)\n",
    "    #ribosome fraction\n",
    "    rlinet=[gropt_gr,gropt_alphaR]\n",
    "    \n",
    "    axs[0,0].plot(gropt_gr,100*gropt_alphaR,ls='-',color='k')\n",
    "    #translation\n",
    "    axs[1,0].plot(gropt_gr,gropt_transl,ls='-',color='k')\n",
    "    axs[1,0].plot(gropt_gr,gropt_gr*0+gamma_maxv,ls='--',color='k')\n",
    "    #offset\n",
    "    try:\n",
    "        indc=np.where(np.logical_and(gropt_gr>=1, gropt_gr<=2))\n",
    "        fitc=np.polyfit(gropt_gr[indc],gropt_alphaR[indc],1)\n",
    "        xgrr=np.linspace(0,2,20)\n",
    "        axs[0,0].plot(xgrr,xgrr*fitc[0]+fitc[1],color='k',ls='--')\n",
    "    except:\n",
    "        pass\n",
    "    #axs[1].set_ylabel('translation (fract. max.)')\n",
    "    #axs[1].set_xlabel(\"growth-rate $\\lambda\\, (1/h)$\")\n",
    "    \n",
    "    \n",
    "    #####\n",
    "    #change fraction other proteins\n",
    "    phi0array=np.linspace(0.,0.8,100)\n",
    "    gropt_alphaR,gropt_pc,gropt_gr,gropt_transl=optphiR_solution(betav,gamma_maxv,nuv,a0v,phiOv,fracactivev)\n",
    "    axs[0,1].axvline(gropt_gr*100,ls='--')\n",
    "\n",
    "    gropt_alphaR,gropt_pc,gropt_gr,gropt_transl=optphiR_solution(betav,gamma_maxv,nuv,a0v,phi0array,fracactivev)\n",
    "    #ribosome fraction\n",
    "    axs[0,1].plot(gropt_gr,100*gropt_alphaR,ls='-',color='k')\n",
    "    #translation\n",
    "    axs[1,1].plot(gropt_gr,gropt_transl,ls='-',color='k')\n",
    "    axs[1,1].plot(gropt_gr,gropt_gr*0+gamma_maxv,ls='--',color='k')\n",
    "    \n",
    "    #offset\n",
    "    try:\n",
    "        fitc=np.polyfit(gropt_gr[int(phi0array.shape[0]/2.):],gropt_alphaR[int(phi0array.shape[0]/2.):],1)\n",
    "        xgrr=np.linspace(0,2,20)\n",
    "        axs[0,1].plot(xgrr,xgrr*fitc[0]+fitc[1],color='k',ls='--')\n",
    "    except:\n",
    "        pass\n",
    "    \n",
    "\n",
    "\n",
    "    \n",
    "    ####\n",
    "    #change translation rate\n",
    "    gropt_alphaR,gropt_pc,gropt_gr,gropt_transl=optphiR_solution(betav,gamma_maxv,nuv,a0v,phiOv,fracactivev)\n",
    "    axs[0,2].axvline(gropt_gr*100,ls='--')\n",
    "    \n",
    "    gammaarray=np.linspace(0.,gamma_maxv,100)\n",
    "    gropt_alphaR,gropt_pc,gropt_gr,gropt_transl=optphiR_solution(betav,gammaarray,nuv,a0v,phiOv,fracactivev)\n",
    "    #ribosome fraction\n",
    "    axs[0,2].plot(gropt_gr,100*gropt_alphaR,ls='-',color='k')\n",
    "    #translation\n",
    "    \n",
    "    axs[1,2].plot(gropt_gr,gropt_transl,ls='--',color='k')\n",
    "    axs[1,2].plot(gropt_gr,gammaarray,ls='--',color='k')\n",
    "\n",
    "\n",
    "    \n",
    "    #rline for comparison\n",
    "    axs[0,2].plot(rlinet[0],100*rlinet[1],ls='-',color='gray')\n",
    "    \n",
    "    \n",
    "    #fit Mori at al. \n",
    "    grr=np.linspace(0,2,100)\n",
    "    #axs[0,0].plot(grr,0.0967+0.2206*grr,color='r',label='Mori et al',alpha=0.5)\n",
    "    #axs[1,0].plot(,color='r',label='observ transl.')\n",
    "    #take data from RNAseq (c limitation)\n",
    "    grdatac=np.array([0.91,0.75, 0.56, 0.51, 0.3 ])\n",
    "    ribosabundanc=np.array([19.18590608, 14.22365961, 12.50443378, 10.73007257,  8.74428159])\n",
    "    axs[0,0].plot(grdatac,ribosabundanc,marker='s',ls='',color='r')\n",
    "    fitc=np.polyfit(grdatac,ribosabundanc,1)\n",
    "    grrc=np.linspace(0,2,100)\n",
    "    axs[0,0].plot(grrc,grrc*fitc[0]+fitc[1],color='r',label='RNA-seq',alpha=1)\n",
    "    axs[0,0].legend()\n",
    "    \n",
    "    if 3>2:#TRANSLATION SPEED - DAI AT AL.\n",
    "        grdatac=np.array([1.83,1.28,1.12,0.98,0.75,0.69,0.69,0.55,0.5,0.46,0.41,0.34,0.38,0.33,0.29,0.2,0.23,0.13,0.035])\n",
    "        elongr=np.array([16.7,16.3,16.1,15.9,14.9,15,14.7,13.7,13.1,12.6,13,12.4,12.4,12,12.1,11.6,12.3,10.7,9.4])\n",
    "    \n",
    "        axs[1,0].plot(grdatac,elongr,marker='s',ls='',color='r')\n",
    "        #axs[1,0].legend()\n",
    "       \n",
    "    plt.tight_layout()\n",
    "    plt.show()\n",
    "\n",
    "interactive_plot = interactive(plotfunction, a0v=(0.001,0.15,0.001),nuv=(0.1,50,0.1),phiOv=(0.1, 0.8,0.025), gamma_maxv=(0.5, 25, 0.1), betav=(0.001,1.5,0.001),fracactivev=(0.4,0.8,0.01))\n",
    "output = interactive_plot.children[-1]\n",
    "output.layout.height = '350px'\n",
    "interactive_plot\n",
    "\n",
    "\n",
    "\n"
   ]
  },
  {
   "cell_type": "code",
   "execution_count": null,
   "metadata": {},
   "outputs": [],
   "source": []
  }
 ],
 "metadata": {
  "kernelspec": {
   "display_name": "Python 3",
   "language": "python",
   "name": "python3"
  },
  "language_info": {
   "codemirror_mode": {
    "name": "ipython",
    "version": 3
   },
   "file_extension": ".py",
   "mimetype": "text/x-python",
   "name": "python",
   "nbconvert_exporter": "python",
   "pygments_lexer": "ipython3",
   "version": "3.8.5"
  },
  "widgets": {
   "application/vnd.jupyter.widget-state+json": {
    "state": {
     "06a97d295cd74fa39822712ac37237b8": {
      "model_module": "@jupyter-widgets/controls",
      "model_module_version": "1.5.0",
      "model_name": "FloatSliderModel",
      "state": {
       "description": "a0v",
       "layout": "IPY_MODEL_45065e5b1ade4fd2a0f660fade641a62",
       "max": 0.15,
       "min": 0.001,
       "step": 0.001,
       "style": "IPY_MODEL_6d94c8d01dfb44048a197f43d96aff01",
       "value": 0.026
      }
     },
     "07e4680b7ad941d6b135b70f6b78e149": {
      "model_module": "@jupyter-widgets/controls",
      "model_module_version": "1.5.0",
      "model_name": "FloatSliderModel",
      "state": {
       "description": "gamma_maxv",
       "layout": "IPY_MODEL_82cc4063ff47464aabc6ada5e8590658",
       "max": 25,
       "min": 0.5,
       "step": 0.1,
       "style": "IPY_MODEL_dcc69ca7e0964ec095d55b55f41a7027",
       "value": 20
      }
     },
     "081a9cc22d8e44a18022e58f91cdf759": {
      "model_module": "@jupyter-widgets/controls",
      "model_module_version": "1.5.0",
      "model_name": "VBoxModel",
      "state": {
       "_dom_classes": [
        "widget-interact"
       ],
       "children": [
        "IPY_MODEL_2ef4dc9dab154646beab7827c01c16eb",
        "IPY_MODEL_32bbe22502e741edbcba6b11df66864d",
        "IPY_MODEL_090d6e3c6f544bc38185e26909e2109e",
        "IPY_MODEL_07e4680b7ad941d6b135b70f6b78e149",
        "IPY_MODEL_9be72cf9c6bb409b898f3a39360f7496",
        "IPY_MODEL_0fc6e495eea74fa4ae9f141d7ceddc21",
        "IPY_MODEL_f0fe079d902141628dbee2f57cd569db"
       ],
       "layout": "IPY_MODEL_202586d765aa4b1c86154c5ff153393f"
      }
     },
     "090d6e3c6f544bc38185e26909e2109e": {
      "model_module": "@jupyter-widgets/controls",
      "model_module_version": "1.5.0",
      "model_name": "FloatSliderModel",
      "state": {
       "description": "phiOv",
       "layout": "IPY_MODEL_c1405c8de38e444fa8e5e7baff6e80c7",
       "max": 0.8,
       "min": 0.1,
       "step": 0.025,
       "style": "IPY_MODEL_12d5f70f094a499396131564af7dee6b",
       "value": 0.35
      }
     },
     "09aa1a0b6ecd4c21ab8d9cab3251676a": {
      "model_module": "@jupyter-widgets/controls",
      "model_module_version": "1.5.0",
      "model_name": "SliderStyleModel",
      "state": {
       "description_width": ""
      }
     },
     "0c2b64982c2c4bd79696efb31b198f0b": {
      "model_module": "@jupyter-widgets/controls",
      "model_module_version": "1.5.0",
      "model_name": "SliderStyleModel",
      "state": {
       "description_width": ""
      }
     },
     "0cb5a25b7929426083ab1bf68cf64549": {
      "model_module": "@jupyter-widgets/base",
      "model_module_version": "1.2.0",
      "model_name": "LayoutModel",
      "state": {}
     },
     "0cdc44350a1847358e8f82098aa3b531": {
      "model_module": "@jupyter-widgets/controls",
      "model_module_version": "1.5.0",
      "model_name": "SliderStyleModel",
      "state": {
       "description_width": ""
      }
     },
     "0fc6e495eea74fa4ae9f141d7ceddc21": {
      "model_module": "@jupyter-widgets/controls",
      "model_module_version": "1.5.0",
      "model_name": "FloatSliderModel",
      "state": {
       "description": "fracactivev",
       "layout": "IPY_MODEL_a069fcf945414c4a855244522c439509",
       "max": 0.8,
       "min": 0.4,
       "step": 0.01,
       "style": "IPY_MODEL_cc636c067011467493f69c7e4c559cac",
       "value": 0.65
      }
     },
     "12d5f70f094a499396131564af7dee6b": {
      "model_module": "@jupyter-widgets/controls",
      "model_module_version": "1.5.0",
      "model_name": "SliderStyleModel",
      "state": {
       "description_width": ""
      }
     },
     "14844e3d043349dcad6b5969b4a8b9d7": {
      "model_module": "@jupyter-widgets/base",
      "model_module_version": "1.2.0",
      "model_name": "LayoutModel",
      "state": {}
     },
     "1a3df439b27144668d549855ee25df1d": {
      "model_module": "@jupyter-widgets/base",
      "model_module_version": "1.2.0",
      "model_name": "LayoutModel",
      "state": {}
     },
     "1b091ad620d04546bbac615a257ba8c9": {
      "model_module": "@jupyter-widgets/controls",
      "model_module_version": "1.5.0",
      "model_name": "SliderStyleModel",
      "state": {
       "description_width": ""
      }
     },
     "202586d765aa4b1c86154c5ff153393f": {
      "model_module": "@jupyter-widgets/base",
      "model_module_version": "1.2.0",
      "model_name": "LayoutModel",
      "state": {}
     },
     "20577e6b472e4b3bbada0d53a3ad724c": {
      "model_module": "@jupyter-widgets/output",
      "model_module_version": "1.0.0",
      "model_name": "OutputModel",
      "state": {
       "layout": "IPY_MODEL_f28a6087df344a79bc8b204904c2c88f",
       "outputs": [
        {
         "name": "stderr",
         "output_type": "stream",
         "text": "/Users/jonascremer/opt/anaconda3/lib/python3.7/site-packages/ipykernel_launcher.py:33: RuntimeWarning: invalid value encountered in true_divide\nNo handles with labels found to put in legend.\n"
        },
        {
         "data": {
          "image/png": "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\n",
          "text/plain": "<Figure size 604.8x381.6 with 6 Axes>"
         },
         "metadata": {
          "needs_background": "light"
         },
         "output_type": "display_data"
        }
       ]
      }
     },
     "21b49f79ac304613b7f33a09b8d99dcc": {
      "model_module": "@jupyter-widgets/base",
      "model_module_version": "1.2.0",
      "model_name": "LayoutModel",
      "state": {
       "height": "350px"
      }
     },
     "2bd297124b6c4a09b270703197e772c6": {
      "model_module": "@jupyter-widgets/base",
      "model_module_version": "1.2.0",
      "model_name": "LayoutModel",
      "state": {}
     },
     "2dbf9b4745634ea7ac21f73efb522620": {
      "model_module": "@jupyter-widgets/base",
      "model_module_version": "1.2.0",
      "model_name": "LayoutModel",
      "state": {}
     },
     "2ef4dc9dab154646beab7827c01c16eb": {
      "model_module": "@jupyter-widgets/controls",
      "model_module_version": "1.5.0",
      "model_name": "FloatSliderModel",
      "state": {
       "description": "a0v",
       "layout": "IPY_MODEL_c010ccbd41954e9bb3fab2ac37aba318",
       "max": 0.15,
       "min": 0.001,
       "step": 0.001,
       "style": "IPY_MODEL_3ff67e06ba614f588f04099ea6206388",
       "value": 0.026
      }
     },
     "32bbe22502e741edbcba6b11df66864d": {
      "model_module": "@jupyter-widgets/controls",
      "model_module_version": "1.5.0",
      "model_name": "FloatSliderModel",
      "state": {
       "description": "nuv",
       "layout": "IPY_MODEL_4d9b597d0d5446699e583ea732bf8813",
       "max": 50,
       "min": 0.1,
       "step": 0.1,
       "style": "IPY_MODEL_f662a647f291458989817657d51d1588",
       "value": 10
      }
     },
     "37bdf5c1ebd84cefa20584128a0801f0": {
      "model_module": "@jupyter-widgets/controls",
      "model_module_version": "1.5.0",
      "model_name": "FloatSliderModel",
      "state": {
       "description": "fracactivev",
       "layout": "IPY_MODEL_c0c47815cdd841ce815563e54c8d14e9",
       "max": 0.8,
       "min": 0.4,
       "step": 0.01,
       "style": "IPY_MODEL_787f57bcf3a34c03a7a8846684aa2af0",
       "value": 0.65
      }
     },
     "3c7f0df2884a424fb5b2b716b5864c03": {
      "model_module": "@jupyter-widgets/controls",
      "model_module_version": "1.5.0",
      "model_name": "SliderStyleModel",
      "state": {
       "description_width": ""
      }
     },
     "3ff67e06ba614f588f04099ea6206388": {
      "model_module": "@jupyter-widgets/controls",
      "model_module_version": "1.5.0",
      "model_name": "SliderStyleModel",
      "state": {
       "description_width": ""
      }
     },
     "419969ce7f6b4e6b8a8d6565af0a7cf5": {
      "model_module": "@jupyter-widgets/controls",
      "model_module_version": "1.5.0",
      "model_name": "SliderStyleModel",
      "state": {
       "description_width": ""
      }
     },
     "43644a3fbada463b9ef2b18f6f1dff7c": {
      "model_module": "@jupyter-widgets/controls",
      "model_module_version": "1.5.0",
      "model_name": "FloatSliderModel",
      "state": {
       "description": "fracactivev",
       "layout": "IPY_MODEL_2bd297124b6c4a09b270703197e772c6",
       "max": 0.8,
       "min": 0.4,
       "step": 0.01,
       "style": "IPY_MODEL_b7e0c23495e44f89b481ff886bdfbe8b",
       "value": 0.65
      }
     },
     "45065e5b1ade4fd2a0f660fade641a62": {
      "model_module": "@jupyter-widgets/base",
      "model_module_version": "1.2.0",
      "model_name": "LayoutModel",
      "state": {}
     },
     "47a0494428fe44e88585dc0758fca22a": {
      "model_module": "@jupyter-widgets/controls",
      "model_module_version": "1.5.0",
      "model_name": "SliderStyleModel",
      "state": {
       "description_width": ""
      }
     },
     "49b4762dd35c474597b8be9c6cdfe536": {
      "model_module": "@jupyter-widgets/base",
      "model_module_version": "1.2.0",
      "model_name": "LayoutModel",
      "state": {}
     },
     "4a9bf03f4f3144eaa404a94565aa48c8": {
      "model_module": "@jupyter-widgets/controls",
      "model_module_version": "1.5.0",
      "model_name": "FloatSliderModel",
      "state": {
       "description": "phiOv",
       "layout": "IPY_MODEL_1a3df439b27144668d549855ee25df1d",
       "max": 0.8,
       "min": 0.1,
       "step": 0.025,
       "style": "IPY_MODEL_4f8f85a06d954a98998536860eba1b23",
       "value": 0.35
      }
     },
     "4c21d9d4504d459085b5ecbaf70b909d": {
      "model_module": "@jupyter-widgets/base",
      "model_module_version": "1.2.0",
      "model_name": "LayoutModel",
      "state": {}
     },
     "4d9b597d0d5446699e583ea732bf8813": {
      "model_module": "@jupyter-widgets/base",
      "model_module_version": "1.2.0",
      "model_name": "LayoutModel",
      "state": {}
     },
     "4f8f85a06d954a98998536860eba1b23": {
      "model_module": "@jupyter-widgets/controls",
      "model_module_version": "1.5.0",
      "model_name": "SliderStyleModel",
      "state": {
       "description_width": ""
      }
     },
     "5108673ea2a3485a86fc7df4ed8a0f49": {
      "model_module": "@jupyter-widgets/controls",
      "model_module_version": "1.5.0",
      "model_name": "FloatSliderModel",
      "state": {
       "description": "nuv",
       "layout": "IPY_MODEL_9b394f2bb12943a3a3bf1811242477fc",
       "max": 50,
       "min": 0.1,
       "step": 0.1,
       "style": "IPY_MODEL_596c9a94d7cf49588dbdd158e25129b6",
       "value": 10
      }
     },
     "540339d7f0094d7999bf067afc7bb5de": {
      "model_module": "@jupyter-widgets/controls",
      "model_module_version": "1.5.0",
      "model_name": "SliderStyleModel",
      "state": {
       "description_width": ""
      }
     },
     "55b9b23f4dc9477aa32ad33e3e571f49": {
      "model_module": "@jupyter-widgets/controls",
      "model_module_version": "1.5.0",
      "model_name": "FloatSliderModel",
      "state": {
       "description": "phiOv",
       "layout": "IPY_MODEL_fd302b58e4754f8b8502974c46da3ee8",
       "max": 0.8,
       "min": 0.1,
       "step": 0.025,
       "style": "IPY_MODEL_661a9381fa0c473eb9b8b767fe356250",
       "value": 0.35
      }
     },
     "596c9a94d7cf49588dbdd158e25129b6": {
      "model_module": "@jupyter-widgets/controls",
      "model_module_version": "1.5.0",
      "model_name": "SliderStyleModel",
      "state": {
       "description_width": ""
      }
     },
     "5b95ef9c0597406695ce00e431f3f3f4": {
      "model_module": "@jupyter-widgets/output",
      "model_module_version": "1.0.0",
      "model_name": "OutputModel",
      "state": {
       "layout": "IPY_MODEL_5fc36bd587e44b26bd3eb19ce0fd72ea",
       "outputs": [
        {
         "name": "stderr",
         "output_type": "stream",
         "text": "/Users/jonascremer/opt/anaconda3/lib/python3.7/site-packages/ipykernel_launcher.py:32: RuntimeWarning: invalid value encountered in true_divide\nNo handles with labels found to put in legend.\n"
        },
        {
         "ename": "NameError",
         "evalue": "name 'hallo' is not defined",
         "output_type": "error",
         "traceback": [
          "\u001b[0;31m---------------------------------------------------------------------------\u001b[0m",
          "\u001b[0;31mNameError\u001b[0m                                 Traceback (most recent call last)",
          "\u001b[0;32m~/opt/anaconda3/lib/python3.7/site-packages/ipywidgets/widgets/interaction.py\u001b[0m in \u001b[0;36mupdate\u001b[0;34m(self, *args)\u001b[0m\n\u001b[1;32m    254\u001b[0m                     \u001b[0mvalue\u001b[0m \u001b[0;34m=\u001b[0m \u001b[0mwidget\u001b[0m\u001b[0;34m.\u001b[0m\u001b[0mget_interact_value\u001b[0m\u001b[0;34m(\u001b[0m\u001b[0;34m)\u001b[0m\u001b[0;34m\u001b[0m\u001b[0;34m\u001b[0m\u001b[0m\n\u001b[1;32m    255\u001b[0m                     \u001b[0mself\u001b[0m\u001b[0;34m.\u001b[0m\u001b[0mkwargs\u001b[0m\u001b[0;34m[\u001b[0m\u001b[0mwidget\u001b[0m\u001b[0;34m.\u001b[0m\u001b[0m_kwarg\u001b[0m\u001b[0;34m]\u001b[0m \u001b[0;34m=\u001b[0m \u001b[0mvalue\u001b[0m\u001b[0;34m\u001b[0m\u001b[0;34m\u001b[0m\u001b[0m\n\u001b[0;32m--> 256\u001b[0;31m                 \u001b[0mself\u001b[0m\u001b[0;34m.\u001b[0m\u001b[0mresult\u001b[0m \u001b[0;34m=\u001b[0m \u001b[0mself\u001b[0m\u001b[0;34m.\u001b[0m\u001b[0mf\u001b[0m\u001b[0;34m(\u001b[0m\u001b[0;34m**\u001b[0m\u001b[0mself\u001b[0m\u001b[0;34m.\u001b[0m\u001b[0mkwargs\u001b[0m\u001b[0;34m)\u001b[0m\u001b[0;34m\u001b[0m\u001b[0;34m\u001b[0m\u001b[0m\n\u001b[0m\u001b[1;32m    257\u001b[0m                 \u001b[0mshow_inline_matplotlib_plots\u001b[0m\u001b[0;34m(\u001b[0m\u001b[0;34m)\u001b[0m\u001b[0;34m\u001b[0m\u001b[0;34m\u001b[0m\u001b[0m\n\u001b[1;32m    258\u001b[0m                 \u001b[0;32mif\u001b[0m \u001b[0mself\u001b[0m\u001b[0;34m.\u001b[0m\u001b[0mauto_display\u001b[0m \u001b[0;32mand\u001b[0m \u001b[0mself\u001b[0m\u001b[0;34m.\u001b[0m\u001b[0mresult\u001b[0m \u001b[0;32mis\u001b[0m \u001b[0;32mnot\u001b[0m \u001b[0;32mNone\u001b[0m\u001b[0;34m:\u001b[0m\u001b[0;34m\u001b[0m\u001b[0;34m\u001b[0m\u001b[0m\n",
          "\u001b[0;32m<ipython-input-2-454d5d5f31dc>\u001b[0m in \u001b[0;36mplotfunction\u001b[0;34m(a0v, nuv, phiOv, gamma_maxv, betav, fracactivev)\u001b[0m\n\u001b[1;32m    212\u001b[0m         \u001b[0maxs\u001b[0m\u001b[0;34m[\u001b[0m\u001b[0;36m1\u001b[0m\u001b[0;34m,\u001b[0m\u001b[0;36m0\u001b[0m\u001b[0;34m]\u001b[0m\u001b[0;34m.\u001b[0m\u001b[0mlegend\u001b[0m\u001b[0;34m(\u001b[0m\u001b[0;34m)\u001b[0m\u001b[0;34m\u001b[0m\u001b[0;34m\u001b[0m\u001b[0m\n\u001b[1;32m    213\u001b[0m \u001b[0;34m\u001b[0m\u001b[0m\n\u001b[0;32m--> 214\u001b[0;31m     \u001b[0mprint\u001b[0m\u001b[0;34m(\u001b[0m\u001b[0mhallo\u001b[0m\u001b[0;34m)\u001b[0m\u001b[0;34m\u001b[0m\u001b[0;34m\u001b[0m\u001b[0m\n\u001b[0m\u001b[1;32m    215\u001b[0m     \u001b[0mplt\u001b[0m\u001b[0;34m.\u001b[0m\u001b[0mtight_layout\u001b[0m\u001b[0;34m(\u001b[0m\u001b[0;34m)\u001b[0m\u001b[0;34m\u001b[0m\u001b[0;34m\u001b[0m\u001b[0m\n\u001b[1;32m    216\u001b[0m     \u001b[0mplt\u001b[0m\u001b[0;34m.\u001b[0m\u001b[0mshow\u001b[0m\u001b[0;34m(\u001b[0m\u001b[0;34m)\u001b[0m\u001b[0;34m\u001b[0m\u001b[0;34m\u001b[0m\u001b[0m\n",
          "\u001b[0;31mNameError\u001b[0m: name 'hallo' is not defined"
         ]
        }
       ]
      }
     },
     "5e09c6d987e64dcc84b10f858401d54a": {
      "model_module": "@jupyter-widgets/controls",
      "model_module_version": "1.5.0",
      "model_name": "FloatSliderModel",
      "state": {
       "description": "gamma_maxv",
       "layout": "IPY_MODEL_b51329d06f5042d69fe9f4336e21fc2f",
       "max": 25,
       "min": 0.5,
       "step": 0.1,
       "style": "IPY_MODEL_3c7f0df2884a424fb5b2b716b5864c03",
       "value": 20
      }
     },
     "5fbf0d0174ef4b68968dfecfe3b76d97": {
      "model_module": "@jupyter-widgets/base",
      "model_module_version": "1.2.0",
      "model_name": "LayoutModel",
      "state": {}
     },
     "5fc36bd587e44b26bd3eb19ce0fd72ea": {
      "model_module": "@jupyter-widgets/base",
      "model_module_version": "1.2.0",
      "model_name": "LayoutModel",
      "state": {
       "height": "350px"
      }
     },
     "661a9381fa0c473eb9b8b767fe356250": {
      "model_module": "@jupyter-widgets/controls",
      "model_module_version": "1.5.0",
      "model_name": "SliderStyleModel",
      "state": {
       "description_width": ""
      }
     },
     "67c099c8626e4f92b602dfbee59d1168": {
      "model_module": "@jupyter-widgets/controls",
      "model_module_version": "1.5.0",
      "model_name": "SliderStyleModel",
      "state": {
       "description_width": ""
      }
     },
     "6866101ad80b49269e9c61331a0ed2d9": {
      "model_module": "@jupyter-widgets/controls",
      "model_module_version": "1.5.0",
      "model_name": "FloatSliderModel",
      "state": {
       "description": "a0v",
       "layout": "IPY_MODEL_0cb5a25b7929426083ab1bf68cf64549",
       "max": 0.15,
       "min": 0.001,
       "step": 0.001,
       "style": "IPY_MODEL_0cdc44350a1847358e8f82098aa3b531",
       "value": 0.026
      }
     },
     "6d94c8d01dfb44048a197f43d96aff01": {
      "model_module": "@jupyter-widgets/controls",
      "model_module_version": "1.5.0",
      "model_name": "SliderStyleModel",
      "state": {
       "description_width": ""
      }
     },
     "6e30977955724f8bba8432ca95f4eea2": {
      "model_module": "@jupyter-widgets/controls",
      "model_module_version": "1.5.0",
      "model_name": "VBoxModel",
      "state": {
       "_dom_classes": [
        "widget-interact"
       ],
       "children": [
        "IPY_MODEL_06a97d295cd74fa39822712ac37237b8",
        "IPY_MODEL_7101b23aa4954a1a8946a2a32dfa2580",
        "IPY_MODEL_4a9bf03f4f3144eaa404a94565aa48c8",
        "IPY_MODEL_dd5a5ae78bc943ba9bb7595d3712b36b",
        "IPY_MODEL_bcd95209ca7b4acd9b7d225458d010f8",
        "IPY_MODEL_990d60967d90499b9e3be5c6ff64cc71",
        "IPY_MODEL_74e6afb1fee149cfb415446aff1ef53f"
       ],
       "layout": "IPY_MODEL_9abfe47d3ce84631ae88930041a2d1f6"
      }
     },
     "7101b23aa4954a1a8946a2a32dfa2580": {
      "model_module": "@jupyter-widgets/controls",
      "model_module_version": "1.5.0",
      "model_name": "FloatSliderModel",
      "state": {
       "description": "nuv",
       "layout": "IPY_MODEL_ba78b53f646c441eaa23186054c95c71",
       "max": 50,
       "min": 0.1,
       "step": 0.1,
       "style": "IPY_MODEL_67c099c8626e4f92b602dfbee59d1168",
       "value": 10
      }
     },
     "7235f1f41346441dbab5b52b75aa8c1c": {
      "model_module": "@jupyter-widgets/base",
      "model_module_version": "1.2.0",
      "model_name": "LayoutModel",
      "state": {}
     },
     "732885088d124f758ccdbcba9fafc2c5": {
      "model_module": "@jupyter-widgets/base",
      "model_module_version": "1.2.0",
      "model_name": "LayoutModel",
      "state": {
       "height": "350px"
      }
     },
     "74e6afb1fee149cfb415446aff1ef53f": {
      "model_module": "@jupyter-widgets/output",
      "model_module_version": "1.0.0",
      "model_name": "OutputModel",
      "state": {
       "layout": "IPY_MODEL_21b49f79ac304613b7f33a09b8d99dcc",
       "outputs": [
        {
         "name": "stderr",
         "output_type": "stream",
         "text": "/Users/jonascremer/opt/anaconda3/lib/python3.7/site-packages/ipykernel_launcher.py:32: RuntimeWarning: invalid value encountered in true_divide\nNo handles with labels found to put in legend.\n"
        },
        {
         "name": "stdout",
         "output_type": "stream",
         "text": "hallo\n"
        },
        {
         "data": {
          "image/png": "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\n",
          "text/plain": "<Figure size 604.8x381.6 with 6 Axes>"
         },
         "metadata": {
          "needs_background": "light"
         },
         "output_type": "display_data"
        }
       ]
      }
     },
     "787f57bcf3a34c03a7a8846684aa2af0": {
      "model_module": "@jupyter-widgets/controls",
      "model_module_version": "1.5.0",
      "model_name": "SliderStyleModel",
      "state": {
       "description_width": ""
      }
     },
     "7afc74a5777d4ae2ac8db4930510bdf3": {
      "model_module": "@jupyter-widgets/base",
      "model_module_version": "1.2.0",
      "model_name": "LayoutModel",
      "state": {}
     },
     "82cc4063ff47464aabc6ada5e8590658": {
      "model_module": "@jupyter-widgets/base",
      "model_module_version": "1.2.0",
      "model_name": "LayoutModel",
      "state": {}
     },
     "83a86fb734544045ab6c23e4cff8858d": {
      "model_module": "@jupyter-widgets/controls",
      "model_module_version": "1.5.0",
      "model_name": "FloatSliderModel",
      "state": {
       "description": "gamma_maxv",
       "layout": "IPY_MODEL_7235f1f41346441dbab5b52b75aa8c1c",
       "max": 25,
       "min": 0.5,
       "step": 0.1,
       "style": "IPY_MODEL_0c2b64982c2c4bd79696efb31b198f0b",
       "value": 20
      }
     },
     "8689a29275d741e0b9d5a924e33223f1": {
      "model_module": "@jupyter-widgets/controls",
      "model_module_version": "1.5.0",
      "model_name": "FloatSliderModel",
      "state": {
       "description": "betav",
       "layout": "IPY_MODEL_aaefe751a3fa4b62b8ce8d3951503046",
       "max": 1.5,
       "min": 0.001,
       "step": 0.001,
       "style": "IPY_MODEL_419969ce7f6b4e6b8a8d6565af0a7cf5",
       "value": 1
      }
     },
     "8c17a105e3e04201859332bbed3bd654": {
      "model_module": "@jupyter-widgets/controls",
      "model_module_version": "1.5.0",
      "model_name": "SliderStyleModel",
      "state": {
       "description_width": ""
      }
     },
     "9453585ec4c342f7835fc9b7c7fefae0": {
      "model_module": "@jupyter-widgets/base",
      "model_module_version": "1.2.0",
      "model_name": "LayoutModel",
      "state": {}
     },
     "990d60967d90499b9e3be5c6ff64cc71": {
      "model_module": "@jupyter-widgets/controls",
      "model_module_version": "1.5.0",
      "model_name": "FloatSliderModel",
      "state": {
       "description": "fracactivev",
       "layout": "IPY_MODEL_4c21d9d4504d459085b5ecbaf70b909d",
       "max": 0.8,
       "min": 0.4,
       "step": 0.01,
       "style": "IPY_MODEL_1b091ad620d04546bbac615a257ba8c9",
       "value": 0.65
      }
     },
     "9a539dfb1ee546b7b394519a3faf1ba1": {
      "model_module": "@jupyter-widgets/controls",
      "model_module_version": "1.5.0",
      "model_name": "SliderStyleModel",
      "state": {
       "description_width": ""
      }
     },
     "9abfe47d3ce84631ae88930041a2d1f6": {
      "model_module": "@jupyter-widgets/base",
      "model_module_version": "1.2.0",
      "model_name": "LayoutModel",
      "state": {}
     },
     "9b394f2bb12943a3a3bf1811242477fc": {
      "model_module": "@jupyter-widgets/base",
      "model_module_version": "1.2.0",
      "model_name": "LayoutModel",
      "state": {}
     },
     "9be72cf9c6bb409b898f3a39360f7496": {
      "model_module": "@jupyter-widgets/controls",
      "model_module_version": "1.5.0",
      "model_name": "FloatSliderModel",
      "state": {
       "description": "betav",
       "layout": "IPY_MODEL_7afc74a5777d4ae2ac8db4930510bdf3",
       "max": 1.5,
       "min": 0.001,
       "step": 0.001,
       "style": "IPY_MODEL_f792626244f44af08ce7ba21888d82c5",
       "value": 1
      }
     },
     "a069fcf945414c4a855244522c439509": {
      "model_module": "@jupyter-widgets/base",
      "model_module_version": "1.2.0",
      "model_name": "LayoutModel",
      "state": {}
     },
     "a649fdcfb4094c1cb04e952bca237e57": {
      "model_module": "@jupyter-widgets/controls",
      "model_module_version": "1.5.0",
      "model_name": "FloatSliderModel",
      "state": {
       "description": "phiOv",
       "layout": "IPY_MODEL_9453585ec4c342f7835fc9b7c7fefae0",
       "max": 0.8,
       "min": 0.1,
       "step": 0.025,
       "style": "IPY_MODEL_9a539dfb1ee546b7b394519a3faf1ba1",
       "value": 0.375
      }
     },
     "aaefe751a3fa4b62b8ce8d3951503046": {
      "model_module": "@jupyter-widgets/base",
      "model_module_version": "1.2.0",
      "model_name": "LayoutModel",
      "state": {}
     },
     "b51329d06f5042d69fe9f4336e21fc2f": {
      "model_module": "@jupyter-widgets/base",
      "model_module_version": "1.2.0",
      "model_name": "LayoutModel",
      "state": {}
     },
     "b5f32ba6dabb4b5f93d187cf933f4720": {
      "model_module": "@jupyter-widgets/base",
      "model_module_version": "1.2.0",
      "model_name": "LayoutModel",
      "state": {}
     },
     "b7e0c23495e44f89b481ff886bdfbe8b": {
      "model_module": "@jupyter-widgets/controls",
      "model_module_version": "1.5.0",
      "model_name": "SliderStyleModel",
      "state": {
       "description_width": ""
      }
     },
     "ba78b53f646c441eaa23186054c95c71": {
      "model_module": "@jupyter-widgets/base",
      "model_module_version": "1.2.0",
      "model_name": "LayoutModel",
      "state": {}
     },
     "ba874619d02e4b20b261d306b789905e": {
      "model_module": "@jupyter-widgets/controls",
      "model_module_version": "1.5.0",
      "model_name": "VBoxModel",
      "state": {
       "_dom_classes": [
        "widget-interact"
       ],
       "children": [
        "IPY_MODEL_c1c3545376bc499fb6bcc7fc00cd64b4",
        "IPY_MODEL_5108673ea2a3485a86fc7df4ed8a0f49",
        "IPY_MODEL_a649fdcfb4094c1cb04e952bca237e57",
        "IPY_MODEL_5e09c6d987e64dcc84b10f858401d54a",
        "IPY_MODEL_8689a29275d741e0b9d5a924e33223f1",
        "IPY_MODEL_43644a3fbada463b9ef2b18f6f1dff7c",
        "IPY_MODEL_20577e6b472e4b3bbada0d53a3ad724c"
       ],
       "layout": "IPY_MODEL_2dbf9b4745634ea7ac21f73efb522620"
      }
     },
     "bc7f2e6b73794d3f882876049354cbe9": {
      "model_module": "@jupyter-widgets/controls",
      "model_module_version": "1.5.0",
      "model_name": "VBoxModel",
      "state": {
       "_dom_classes": [
        "widget-interact"
       ],
       "children": [
        "IPY_MODEL_6866101ad80b49269e9c61331a0ed2d9",
        "IPY_MODEL_efa2d28e56644817a3e209d044ccc57a",
        "IPY_MODEL_55b9b23f4dc9477aa32ad33e3e571f49",
        "IPY_MODEL_83a86fb734544045ab6c23e4cff8858d",
        "IPY_MODEL_e1369f2919904b3c948628958b8f3866",
        "IPY_MODEL_37bdf5c1ebd84cefa20584128a0801f0",
        "IPY_MODEL_5b95ef9c0597406695ce00e431f3f3f4"
       ],
       "layout": "IPY_MODEL_df10ab0b8c1140ae8ed72930ee8c9ef5"
      }
     },
     "bcd95209ca7b4acd9b7d225458d010f8": {
      "model_module": "@jupyter-widgets/controls",
      "model_module_version": "1.5.0",
      "model_name": "FloatSliderModel",
      "state": {
       "description": "betav",
       "layout": "IPY_MODEL_49b4762dd35c474597b8be9c6cdfe536",
       "max": 1.5,
       "min": 0.001,
       "step": 0.001,
       "style": "IPY_MODEL_540339d7f0094d7999bf067afc7bb5de",
       "value": 1
      }
     },
     "c010ccbd41954e9bb3fab2ac37aba318": {
      "model_module": "@jupyter-widgets/base",
      "model_module_version": "1.2.0",
      "model_name": "LayoutModel",
      "state": {}
     },
     "c0c47815cdd841ce815563e54c8d14e9": {
      "model_module": "@jupyter-widgets/base",
      "model_module_version": "1.2.0",
      "model_name": "LayoutModel",
      "state": {}
     },
     "c1405c8de38e444fa8e5e7baff6e80c7": {
      "model_module": "@jupyter-widgets/base",
      "model_module_version": "1.2.0",
      "model_name": "LayoutModel",
      "state": {}
     },
     "c1c3545376bc499fb6bcc7fc00cd64b4": {
      "model_module": "@jupyter-widgets/controls",
      "model_module_version": "1.5.0",
      "model_name": "FloatSliderModel",
      "state": {
       "description": "a0v",
       "layout": "IPY_MODEL_fd6aeeeeb278417e81390ccf29e3c3a2",
       "max": 0.15,
       "min": 0.001,
       "step": 0.001,
       "style": "IPY_MODEL_47a0494428fe44e88585dc0758fca22a",
       "value": 0.026
      }
     },
     "cc636c067011467493f69c7e4c559cac": {
      "model_module": "@jupyter-widgets/controls",
      "model_module_version": "1.5.0",
      "model_name": "SliderStyleModel",
      "state": {
       "description_width": ""
      }
     },
     "dcc69ca7e0964ec095d55b55f41a7027": {
      "model_module": "@jupyter-widgets/controls",
      "model_module_version": "1.5.0",
      "model_name": "SliderStyleModel",
      "state": {
       "description_width": ""
      }
     },
     "dd5a5ae78bc943ba9bb7595d3712b36b": {
      "model_module": "@jupyter-widgets/controls",
      "model_module_version": "1.5.0",
      "model_name": "FloatSliderModel",
      "state": {
       "description": "gamma_maxv",
       "layout": "IPY_MODEL_b5f32ba6dabb4b5f93d187cf933f4720",
       "max": 25,
       "min": 0.5,
       "step": 0.1,
       "style": "IPY_MODEL_8c17a105e3e04201859332bbed3bd654",
       "value": 20
      }
     },
     "df10ab0b8c1140ae8ed72930ee8c9ef5": {
      "model_module": "@jupyter-widgets/base",
      "model_module_version": "1.2.0",
      "model_name": "LayoutModel",
      "state": {}
     },
     "e1369f2919904b3c948628958b8f3866": {
      "model_module": "@jupyter-widgets/controls",
      "model_module_version": "1.5.0",
      "model_name": "FloatSliderModel",
      "state": {
       "description": "betav",
       "layout": "IPY_MODEL_5fbf0d0174ef4b68968dfecfe3b76d97",
       "max": 1.5,
       "min": 0.001,
       "step": 0.001,
       "style": "IPY_MODEL_09aa1a0b6ecd4c21ab8d9cab3251676a",
       "value": 1
      }
     },
     "e634f4c6982b49db99c3285a6fa83f35": {
      "model_module": "@jupyter-widgets/controls",
      "model_module_version": "1.5.0",
      "model_name": "SliderStyleModel",
      "state": {
       "description_width": ""
      }
     },
     "efa2d28e56644817a3e209d044ccc57a": {
      "model_module": "@jupyter-widgets/controls",
      "model_module_version": "1.5.0",
      "model_name": "FloatSliderModel",
      "state": {
       "description": "nuv",
       "layout": "IPY_MODEL_14844e3d043349dcad6b5969b4a8b9d7",
       "max": 50,
       "min": 0.1,
       "step": 0.1,
       "style": "IPY_MODEL_e634f4c6982b49db99c3285a6fa83f35",
       "value": 10
      }
     },
     "f0fe079d902141628dbee2f57cd569db": {
      "model_module": "@jupyter-widgets/output",
      "model_module_version": "1.0.0",
      "model_name": "OutputModel",
      "state": {
       "layout": "IPY_MODEL_732885088d124f758ccdbcba9fafc2c5",
       "outputs": [
        {
         "name": "stderr",
         "output_type": "stream",
         "text": "/Users/jonascremer/opt/anaconda3/lib/python3.7/site-packages/ipykernel_launcher.py:32: RuntimeWarning: invalid value encountered in true_divide\nNo handles with labels found to put in legend.\n"
        },
        {
         "name": "stdout",
         "output_type": "stream",
         "text": "hallo10.0\n"
        },
        {
         "data": {
          "image/png": "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\n",
          "text/plain": "<Figure size 604.8x381.6 with 6 Axes>"
         },
         "metadata": {
          "needs_background": "light"
         },
         "output_type": "display_data"
        }
       ]
      }
     },
     "f28a6087df344a79bc8b204904c2c88f": {
      "model_module": "@jupyter-widgets/base",
      "model_module_version": "1.2.0",
      "model_name": "LayoutModel",
      "state": {
       "height": "350px"
      }
     },
     "f662a647f291458989817657d51d1588": {
      "model_module": "@jupyter-widgets/controls",
      "model_module_version": "1.5.0",
      "model_name": "SliderStyleModel",
      "state": {
       "description_width": ""
      }
     },
     "f792626244f44af08ce7ba21888d82c5": {
      "model_module": "@jupyter-widgets/controls",
      "model_module_version": "1.5.0",
      "model_name": "SliderStyleModel",
      "state": {
       "description_width": ""
      }
     },
     "fd302b58e4754f8b8502974c46da3ee8": {
      "model_module": "@jupyter-widgets/base",
      "model_module_version": "1.2.0",
      "model_name": "LayoutModel",
      "state": {}
     },
     "fd6aeeeeb278417e81390ccf29e3c3a2": {
      "model_module": "@jupyter-widgets/base",
      "model_module_version": "1.2.0",
      "model_name": "LayoutModel",
      "state": {}
     }
    },
    "version_major": 2,
    "version_minor": 0
   }
  }
 },
 "nbformat": 4,
 "nbformat_minor": 4
}
