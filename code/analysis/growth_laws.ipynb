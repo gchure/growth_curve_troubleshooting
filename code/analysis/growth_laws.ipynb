{
 "cells": [
  {
   "cell_type": "markdown",
   "metadata": {},
   "source": [
    "# Derivation of The Bacterial Growth Laws "
   ]
  },
  {
   "cell_type": "code",
   "execution_count": 1,
   "metadata": {},
   "outputs": [],
   "source": [
    "import numpy as np \n",
    "import pandas as pd \n",
    "import altair as alt\n",
    "import gcutils\n",
    "colors, palette = gcutils.viz.altair_style()"
   ]
  },
  {
   "cell_type": "markdown",
   "metadata": {},
   "source": [
    "In this notebook, we go through a simple derivation of the phenomenological bacterial growth laws following the bare-bones laid out by [Scott et al. 2014](). In doing so, we cover some of the key concepts relating to optimal regulation of the bacterial proteome, a topic we consider in depth at the end of this notebook."
   ]
  },
  {
   "cell_type": "code",
   "execution_count": null,
   "metadata": {},
   "outputs": [],
   "source": []
  },
  {
   "cell_type": "markdown",
   "metadata": {},
   "source": [
    "# Synthesis of Proteins\n",
    "\n",
    "To grow, cells must be able to double all of their cellular components. This includes doubling of the chromosome(s), doubling of the peptidoglycan and lipid molecules, and (of course) proteins. The complete set of proteins that are present in the cell is termed the **proteome**. Each of the $N$ proteins in the proteome has a given mass $m$, which summed together defines the total protein mass $M$,\n",
    "\n",
    "$$\n",
    "M = \\sum\\limits_i^N m_i N_i, \\tag{1}\n",
    "$$\n",
    "\n",
    "in which $N_i$ corresponds to the copy number of the $i$-th protein in the proteome.\n",
    "\n",
    "\n",
    "All forms of life as we know them rely on ribosomes to assemble these proteins, each stitching together amino acids at a rate $k_R$. With $N_R$ ribosomes per cell, we can compute the rate of change of the proteome mass as\n",
    "\n",
    "$$\n",
    "\\frac{dM}{dt} = k_R N_R m_{AA}, \\tag{2}\n",
    "$$\n",
    "\n",
    "where $m_{AA}$ is the average mass of an amino acid and $k_R$ is the translation rate in units of amino acids per second. \n",
    "\n",
    "In balanced exponential growth, synthesis of new protein is balanced by the dilution of proteins via cell division, meaning the macromolecular composition is constant. We can define the growth rate in terms of the proteome mass as \n",
    "\n",
    "$$\n",
    "\\lambda = \\frac{1}{M}\\frac{dM}{dt} = \\frac{k_R N_R m_AA}{M}. \\tag{3}\n",
    "$$\n",
    "\n",
    "\n",
    "Rather than needing to know both the absolute number of ribosomes and the total proteome mass, we can define Equation 3 in terms of the **ribosomal mass fraction** $\\phi_R$, or what fraction of the total proteome mass is atttributable to ribosomes. Given the number of ribosomes $N_R$ and the average mass of a single ribosome $m_R$, this can be computed as \n",
    "\n",
    "$$\n",
    "\\phi_R = \\frac{m_R N_R}{M} \\tag{4}.\n",
    "$$\n",
    "\n",
    "Substituting this into Equation 3 yields and expression for the growth rate in terms of the ribosomal mass fraction,\n",
    "\n",
    "$$\n",
    "\\lambda = \\frac{k_R m_AA}{m_R} \\phi_R = \\gamma \\phi_R. \\tag{5}\n",
    "$$\n",
    "\n",
    "Here, we lump details of the translation rate $k_R$, average mass of an amino acid $m_AA$, and mass of a ribosome $m_R$ into a single parameter $\\gamma$. This parameter is often couched as the **translational capacity** of the cell. It can be thought of as a translational efficiency in units of inverse time. This parameter effectively describes what fraction of a ribosomes mass is synthesized per unit time. For *E. coli* with a maximal translation rate $k_R \\approx 17 AA / s$, this comes out to\n",
    "\n",
    "$$\n",
    "\\gamma_{\\text{E. coli}}^{(max)} \\approx \\frac{\\left(17.1 \\frac{\\text{AA}}{\\text{s}}\\right)\\left(110 \\frac{\\text{Da}}{\\text{AA}}\\right)}{8\\times 10^5 \\frac{\\text{Da}}{\\text{ribosome}}} \\approx 2 \\times 10^{-3} \\frac{\\text{ribosomes}}{\\text{sec}}. \\tag{6}\n",
    "$$\n",
    "\n",
    "This gives the absolute *maximum* bacterial growth rate if *all* proteins in the cell were ribosomes, which comes out to be 500 seconds or about 7 min.  \n",
    "\n",
    "It's reasonable to consider that $\\gamma$ is a target of regulation depdending on the particular growth condition or antiobiotic pressure. For example, one would expect that $\\gamma$ would decrease as the abundance or quality of the nutrients in the growth medium decrease, slowing the translation efficiency and ultimately the growth rate. \n",
    "\n",
    "Wc can assume that the value of $\\gamma$ follows Michaelis-Menten kinetics as a function of the effective nutrient mass fraction $a = M_A / M$ (one can also think of this as a concentration) as\n",
    "\n",
    "$$\n",
    "\\gamma(c) = \\gamma^{\\text{(max)}}\\left(1 + \\frac{a^*}{a}\\right)^{-1}. \\tag{7}\n",
    "$$\n",
    "\n",
    "So long as $a >> a^*$, the effective translation rate will be high. However, as $a << a^*$, the rate will effectivley plummet, significantly slowing growth.\n",
    "\n",
    "Equation 5 presents a general growth law for the rate of bacterial growth in a regime where nutrients are plentiful, a regime we term **translation limited growth.** We now consider how the nutrient pool $M_A / M$ is manifest.\n"
   ]
  },
  {
   "cell_type": "markdown",
   "metadata": {},
   "source": [
    "## Nutrient Synthesis and Transport\n",
    "\n",
    "The vast majority of cellular nutrients need to either be synthesized from precursors or outright transported from the environment into the cell. We assume that these nutrients are provided to the growing proteome at a flux $J$ and consumed with a frequency $\\beta$ by the ribosomes. Furthermore, we must include that there exists a standing pool of nutrients with a mass fraction $\\phi_c$. Mathematically, we can state the rate of change of the nutrient mass $M_c$ with respect to time as \n",
    "\n",
    "$$\n",
    "\\frac{dM_A}{dt} = J - (\\beta + a) \\frac{dM}{dt}. \\tag{8}\n",
    "$$\n",
    "\n",
    "This can be cast in the language of the mass fraction by dividing the whole expression by the mass of the proteome yielding\n",
    "\n",
    "$$\n",
    "\\frac{da}{dt} = \\frac{J}{M} - \\frac{\\beta + a}{M}\\frac{dM}{dt} = \\frac{J}{M} - \\lambda(\\beta + a). \\tag{9}\n",
    "$$\n",
    "\n",
    "Assuming once again steady-state growth, a simple rearrangement allows us to write an expression for the growth rate dependent on the nutrient flux as \n",
    "\n",
    "$$\n",
    "\\lambda = \\frac{J}{(\\beta + a) M}. \\tag{10}\n",
    "$$\n",
    "\n",
    "Much as we thought about the synthesis of new proteins by thinking about the rate of translation, we can model the acquisition of nutrients by thinking about the action of transporters or enzyme synthesis rates. The flux of nutrients into the cell $J$ is depenent on the number of transporter/synthesis proteins $N_T$ and their corresponding effective rates of action $k_T$ in units of $M_A / T$, \n",
    "\n",
    "$$\n",
    "J = k_T N_T, \\tag{11}\n",
    "$$\n",
    "\n",
    "which can be cast in terms of a nutrient transport/synthesis mass fraction $\\phi_P$,\n",
    "\n",
    "$$\n",
    "\\frac{J}{M} = \\frac{k_T N_T m_T}{M} = k_T \\phi_T, \\tag{12}\n",
    "$$\n",
    "\n",
    "where we have defined the mass of the transport/synthesis proteins as $m_T$. Plugging this result into Equation 10 yields and expression for the growth rate as a function of the transport/synthesis mass fraction $\\phi_T$,\n",
    "\n",
    "$$\n",
    "\\lambda = \\frac{k_T}{\\beta + a} \\phi_T. \\tag{13}\n",
    "$$\n",
    "\n",
    "Thus, the steady-state amino acid pool size (or concentration, in a way) can be calculated as \n",
    "\n",
    "$$\n",
    "a = \\frac{k_T}{\\lambda}\\phi_T - \\beta = \\beta\\left(\\frac{k_T\\phi_T}{\\beta\\lambda} - 1\\right). \\tag{14}\n",
    "$$\n",
    "\n",
    "This can be further simplified by introducing a new parameter $\\nu = k_T / \\beta$ which yields \n",
    "\n",
    "$$\n",
    "a = \\beta \\left(\\frac{\\nu \\phi_T}{\\lambda} - 1\\right). \\tag{15}\n",
    "$$\n",
    "\n",
    "The parameter $\\nu$ is commonly referred to as the **nutritional capacity** of the cell and captures the relative rate at which nutrients can be acquired per transport/synthesis protein relative to the frequency at which they are used. It's important to realize, however, that the production rate $k_T$ represents the overall rate of metabolism to produce amino acids rather than the turnover rate of a particular enzyme or transporter. "
   ]
  },
  {
   "cell_type": "markdown",
   "metadata": {},
   "source": [
    "## Solving the steady state growth rates\n",
    "\n",
    "Equations 10 and 15 can be solved for the steady state growth rates and the nutrient pool. This ends up being a \n"
   ]
  },
  {
   "cell_type": "code",
   "execution_count": null,
   "metadata": {},
   "outputs": [],
   "source": []
  }
 ],
 "metadata": {
  "kernelspec": {
   "display_name": "Python 3",
   "language": "python",
   "name": "python3"
  },
  "language_info": {
   "codemirror_mode": {
    "name": "ipython",
    "version": 3
   },
   "file_extension": ".py",
   "mimetype": "text/x-python",
   "name": "python",
   "nbconvert_exporter": "python",
   "pygments_lexer": "ipython3",
   "version": "3.8.5"
  }
 },
 "nbformat": 4,
 "nbformat_minor": 4
}
